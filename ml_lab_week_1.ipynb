{
 "cells": [
  {
   "cell_type": "code",
   "execution_count": 17,
   "metadata": {},
   "outputs": [],
   "source": [
    "import numpy as np\n",
    "\n",
    "def get_predictions(X, theta):\n",
    "    return X @ theta.T\n",
    "\n",
    "def get_cost(X,y,theta):\n",
    "    pred = get_predictions(X, theta)\n",
    "    diff_squares = np.power((pred-y),2)\n",
    "    cost = np.sum(diff_squares)/(2 * len(X))\n",
    "    return cost\n",
    "\n",
    "def gradient_descent(X,y,theta,epoch,learn_rate):\n",
    "    cost = np.zeros(epoch)\n",
    "    for i in range(epoch):\n",
    "        pred = get_predictions(X, theta)\n",
    "        theta = theta - (learn_rate/len(X)) * np.sum(X * (pred - y), axis=0)\n",
    "        cost[i] = get_cost(X, y, theta)\n",
    "    \n",
    "    return theta,cost\n"
   ]
  },
  {
   "cell_type": "code",
   "execution_count": 19,
   "metadata": {},
   "outputs": [
    {
     "name": "stdout",
     "output_type": "stream",
     "text": [
      "[[ 1.35016924e-14 -2.83671698e-01 -1.05345627e-01 -1.90290908e-01\n",
      "   9.67827309e-02 -2.08009260e-01]]\n",
      "0.31209597279422524\n"
     ]
    }
   ],
   "source": [
    "import numpy as np\n",
    "import pandas as pd\n",
    "import matplotlib.pyplot as plt\n",
    "\n",
    "\n",
    "path = 'https://archive.ics.uci.edu/ml/machine-learning-databases/00291/airfoil_self_noise.dat'\n",
    "df = pd.read_csv(path, sep='\\t',  header=None)\n",
    "\n",
    "df.columns = ['frequency', 'angle-of-attack', 'chord-length', 'free-stream-velocity', 'suction-side-thickness', 'sound-pressure-level']\n",
    "\n",
    "df = (df - df.mean())/df.std()\n",
    "num_col = df.shape[1]\n",
    "\n",
    "X= df.iloc[:, 0:num_col-1]\n",
    "ones= np.ones([X.shape[0], 1])\n",
    "X = np.concatenate((ones,X),axis=1)\n",
    "\n",
    "y = df.iloc[:,num_col-1:].values\n",
    "\n",
    "epoch= 1000\n",
    "learn_rate= 0.001\n",
    "\n",
    "theta = np.zeros([1,num_col])\n",
    "\n",
    "new_theta,cost = gradient_descent(X,y,theta,epoch,learn_rate)\n",
    "print(new_theta)\n",
    "\n",
    "cost = get_cost(X,y,new_theta)\n",
    "print(cost)"
   ]
  },
  {
   "cell_type": "code",
   "execution_count": null,
   "metadata": {},
   "outputs": [],
   "source": []
  }
 ],
 "metadata": {
  "kernelspec": {
   "display_name": "Python 3",
   "language": "python",
   "name": "python3"
  },
  "language_info": {
   "codemirror_mode": {
    "name": "ipython",
    "version": 3
   },
   "file_extension": ".py",
   "mimetype": "text/x-python",
   "name": "python",
   "nbconvert_exporter": "python",
   "pygments_lexer": "ipython3",
   "version": "3.7.3"
  }
 },
 "nbformat": 4,
 "nbformat_minor": 2
}
